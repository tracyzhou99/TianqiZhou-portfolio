{
 "cells": [
  {
   "cell_type": "code",
   "execution_count": null,
   "id": "cdd0af02-39cf-400d-9321-c2fbf3d020f6",
   "metadata": {
    "tags": []
   },
   "outputs": [],
   "source": [
    "import plotly.express as px\n",
    "import numpy as np\n",
    "import pandas as pd"
   ]
  },
  {
   "cell_type": "code",
   "execution_count": null,
   "id": "7a4bea55-8024-4aa8-8ba5-c6b030590f76",
   "metadata": {
    "tags": []
   },
   "outputs": [],
   "source": [
    "covid = pd.read_csv('../../data/csv/covid_us.csv')"
   ]
  },
  {
   "cell_type": "markdown",
   "id": "2b9a126e-3614-4d52-8021-1345dd553d17",
   "metadata": {
    "tags": []
   },
   "source": [
    "## Group covid new cases by quarter"
   ]
  },
  {
   "cell_type": "code",
   "execution_count": null,
   "id": "cd49e2b1-6c79-420b-9987-ee8d71a67c20",
   "metadata": {
    "tags": []
   },
   "outputs": [
    {
     "data": {
      "text/html": [
       "<div>\n",
       "<style scoped>\n",
       "    .dataframe tbody tr th:only-of-type {\n",
       "        vertical-align: middle;\n",
       "    }\n",
       "\n",
       "    .dataframe tbody tr th {\n",
       "        vertical-align: top;\n",
       "    }\n",
       "\n",
       "    .dataframe thead th {\n",
       "        text-align: right;\n",
       "    }\n",
       "</style>\n",
       "<table border=\"1\" class=\"dataframe\">\n",
       "  <thead>\n",
       "    <tr style=\"text-align: right;\">\n",
       "      <th></th>\n",
       "      <th>quarter</th>\n",
       "      <th>New_cases</th>\n",
       "    </tr>\n",
       "  </thead>\n",
       "  <tbody>\n",
       "    <tr>\n",
       "      <th>0</th>\n",
       "      <td>2020Q1</td>\n",
       "      <td>173143</td>\n",
       "    </tr>\n",
       "    <tr>\n",
       "      <th>1</th>\n",
       "      <td>2020Q2</td>\n",
       "      <td>2433470</td>\n",
       "    </tr>\n",
       "    <tr>\n",
       "      <th>2</th>\n",
       "      <td>2020Q3</td>\n",
       "      <td>4610471</td>\n",
       "    </tr>\n",
       "    <tr>\n",
       "      <th>3</th>\n",
       "      <td>2020Q4</td>\n",
       "      <td>12360501</td>\n",
       "    </tr>\n",
       "    <tr>\n",
       "      <th>4</th>\n",
       "      <td>2021Q1</td>\n",
       "      <td>10529087</td>\n",
       "    </tr>\n",
       "    <tr>\n",
       "      <th>5</th>\n",
       "      <td>2021Q2</td>\n",
       "      <td>3199599</td>\n",
       "    </tr>\n",
       "    <tr>\n",
       "      <th>6</th>\n",
       "      <td>2021Q3</td>\n",
       "      <td>9672951</td>\n",
       "    </tr>\n",
       "    <tr>\n",
       "      <th>7</th>\n",
       "      <td>2021Q4</td>\n",
       "      <td>10555064</td>\n",
       "    </tr>\n",
       "    <tr>\n",
       "      <th>8</th>\n",
       "      <td>2022Q1</td>\n",
       "      <td>25847661</td>\n",
       "    </tr>\n",
       "    <tr>\n",
       "      <th>9</th>\n",
       "      <td>2022Q2</td>\n",
       "      <td>6928001</td>\n",
       "    </tr>\n",
       "    <tr>\n",
       "      <th>10</th>\n",
       "      <td>2022Q3</td>\n",
       "      <td>8660726</td>\n",
       "    </tr>\n",
       "    <tr>\n",
       "      <th>11</th>\n",
       "      <td>2022Q4</td>\n",
       "      <td>4441022</td>\n",
       "    </tr>\n",
       "    <tr>\n",
       "      <th>12</th>\n",
       "      <td>2023Q1</td>\n",
       "      <td>3285870</td>\n",
       "    </tr>\n",
       "    <tr>\n",
       "      <th>13</th>\n",
       "      <td>2023Q2</td>\n",
       "      <td>739263</td>\n",
       "    </tr>\n",
       "    <tr>\n",
       "      <th>14</th>\n",
       "      <td>2023Q3</td>\n",
       "      <td>0</td>\n",
       "    </tr>\n",
       "    <tr>\n",
       "      <th>15</th>\n",
       "      <td>2023Q4</td>\n",
       "      <td>0</td>\n",
       "    </tr>\n",
       "  </tbody>\n",
       "</table>\n",
       "</div>"
      ],
      "text/plain": [
       "   quarter  New_cases\n",
       "0   2020Q1     173143\n",
       "1   2020Q2    2433470\n",
       "2   2020Q3    4610471\n",
       "3   2020Q4   12360501\n",
       "4   2021Q1   10529087\n",
       "5   2021Q2    3199599\n",
       "6   2021Q3    9672951\n",
       "7   2021Q4   10555064\n",
       "8   2022Q1   25847661\n",
       "9   2022Q2    6928001\n",
       "10  2022Q3    8660726\n",
       "11  2022Q4    4441022\n",
       "12  2023Q1    3285870\n",
       "13  2023Q2     739263\n",
       "14  2023Q3          0\n",
       "15  2023Q4          0"
      ]
     },
     "execution_count": 19,
     "metadata": {},
     "output_type": "execute_result"
    }
   ],
   "source": [
    "covid['Date_reported'] = pd.to_datetime(covid['Date_reported'])\n",
    "covid['quarter'] = covid['Date_reported'].dt.to_period('Q')\n",
    "covid_q = covid.groupby('quarter')['New_cases'].sum().reset_index()\n",
    "covid_q"
   ]
  },
  {
   "cell_type": "code",
   "execution_count": null,
   "id": "3f6595c9-20ec-459c-8526-8d45b7919ce4",
   "metadata": {
    "tags": []
   },
   "outputs": [
    {
     "name": "stdout",
     "output_type": "stream",
     "text": [
      "Retrieving notices: ...working... done\n",
      "Collecting package metadata (current_repodata.json): done\n",
      "Solving environment: done\n",
      "\n",
      "\n",
      "==> WARNING: A newer version of conda exists. <==\n",
      "  current version: 23.3.1\n",
      "  latest version: 23.10.0\n",
      "\n",
      "Please update conda by running\n",
      "\n",
      "    $ conda update -n base -c defaults conda\n",
      "\n",
      "Or to minimize the number of packages updated during conda update use\n",
      "\n",
      "     conda install conda=23.10.0\n",
      "\n",
      "\n",
      "\n",
      "## Package Plan ##\n",
      "\n",
      "  environment location: /opt/conda\n",
      "\n",
      "  added / updated specs:\n",
      "    - openjdk\n",
      "\n",
      "\n",
      "The following packages will be downloaded:\n",
      "\n",
      "    package                    |            build\n",
      "    ---------------------------|-----------------\n",
      "    ca-certificates-2023.08.22 |       h06a4308_0         123 KB\n",
      "    certifi-2023.7.22          |  py310h06a4308_0         153 KB\n",
      "    openjdk-11.0.13            |       h87a67e3_0       341.0 MB\n",
      "    ------------------------------------------------------------\n",
      "                                           Total:       341.3 MB\n",
      "\n",
      "The following NEW packages will be INSTALLED:\n",
      "\n",
      "  openjdk            pkgs/main/linux-64::openjdk-11.0.13-h87a67e3_0 \n",
      "\n",
      "The following packages will be UPDATED:\n",
      "\n",
      "  ca-certificates    conda-forge::ca-certificates-2023.7.2~ --> pkgs/main::ca-certificates-2023.08.22-h06a4308_0 \n",
      "\n",
      "The following packages will be SUPERSEDED by a higher-priority channel:\n",
      "\n",
      "  certifi            conda-forge/noarch::certifi-2023.7.22~ --> pkgs/main/linux-64::certifi-2023.7.22-py310h06a4308_0 \n",
      "\n",
      "\n",
      "\n",
      "Downloading and Extracting Packages\n",
      "certifi-2023.7.22    | 153 KB    |                                       |   0% \n",
      "openjdk-11.0.13      | 341.0 MB  |                                       |   0% \u001b[A\n",
      "\n",
      "certifi-2023.7.22    | 153 KB    | ###################3                  |  52% \u001b[A\u001b[A\n",
      "openjdk-11.0.13      | 341.0 MB  |                                       |   0% \u001b[A\n",
      "\n",
      "ca-certificates-2023 | 123 KB    | ##################################### | 100% \u001b[A\u001b[A\n",
      "\n",
      "certifi-2023.7.22    | 153 KB    | ##################################### | 100% \u001b[A\u001b[A\n",
      "openjdk-11.0.13      | 341.0 MB  | 1                                     |   1% \u001b[A\n",
      "openjdk-11.0.13      | 341.0 MB  | #2                                    |   4% \u001b[A\n",
      "openjdk-11.0.13      | 341.0 MB  | ##4                                   |   7% \u001b[A\n",
      "openjdk-11.0.13      | 341.0 MB  | ###7                                  |  10% \u001b[A\n",
      "openjdk-11.0.13      | 341.0 MB  | ####7                                 |  13% \u001b[A\n",
      "openjdk-11.0.13      | 341.0 MB  | ######                                |  16% \u001b[A\n",
      "openjdk-11.0.13      | 341.0 MB  | #######6                              |  21% \u001b[A\n",
      "openjdk-11.0.13      | 341.0 MB  | #########2                            |  25% \u001b[A\n",
      "openjdk-11.0.13      | 341.0 MB  | ##########6                           |  29% \u001b[A\n",
      "openjdk-11.0.13      | 341.0 MB  | ############                          |  33% \u001b[A\n",
      "openjdk-11.0.13      | 341.0 MB  | #############6                        |  37% \u001b[A\n",
      "openjdk-11.0.13      | 341.0 MB  | ###############                       |  41% \u001b[A\n",
      "openjdk-11.0.13      | 341.0 MB  | ################3                     |  44% \u001b[A\n",
      "openjdk-11.0.13      | 341.0 MB  | #################5                    |  48% \u001b[A\n",
      "openjdk-11.0.13      | 341.0 MB  | ###################2                  |  52% \u001b[A\n",
      "openjdk-11.0.13      | 341.0 MB  | #####################                 |  57% \u001b[A\n",
      "openjdk-11.0.13      | 341.0 MB  | ######################7               |  61% \u001b[A\n",
      "openjdk-11.0.13      | 341.0 MB  | ########################3             |  66% \u001b[A\n",
      "openjdk-11.0.13      | 341.0 MB  | ##########################            |  70% \u001b[A\n",
      "openjdk-11.0.13      | 341.0 MB  | ###########################6          |  75% \u001b[A\n",
      "openjdk-11.0.13      | 341.0 MB  | #############################1        |  79% \u001b[A\n",
      "openjdk-11.0.13      | 341.0 MB  | ##############################7       |  83% \u001b[A\n",
      "openjdk-11.0.13      | 341.0 MB  | ################################4     |  88% \u001b[A\n",
      "openjdk-11.0.13      | 341.0 MB  | ##################################    |  92% \u001b[A\n",
      "openjdk-11.0.13      | 341.0 MB  | ###################################6  |  96% \u001b[A\n",
      "                                                                                \u001b[A\n",
      "                                                                                \u001b[A\n",
      "\n",
      "                                                                                \u001b[A\u001b[A\n",
      "Preparing transaction: done\n",
      "Verifying transaction: done\n",
      "Executing transaction: done\n",
      "\n",
      "Note: you may need to restart the kernel to use updated packages.\n",
      "Collecting pyspark==3.3.0\n",
      "  Using cached pyspark-3.3.0-py2.py3-none-any.whl\n",
      "Collecting py4j==0.10.9.5 (from pyspark==3.3.0)\n",
      "  Using cached py4j-0.10.9.5-py2.py3-none-any.whl (199 kB)\n",
      "Installing collected packages: py4j, pyspark\n",
      "Successfully installed py4j-0.10.9.5 pyspark-3.3.0\n",
      "\u001b[33mWARNING: Running pip as the 'root' user can result in broken permissions and conflicting behaviour with the system package manager. It is recommended to use a virtual environment instead: https://pip.pypa.io/warnings/venv\u001b[0m\u001b[33m\n",
      "\u001b[0m\n",
      "\u001b[1m[\u001b[0m\u001b[34;49mnotice\u001b[0m\u001b[1;39;49m]\u001b[0m\u001b[39;49m A new release of pip is available: \u001b[0m\u001b[31;49m23.2.1\u001b[0m\u001b[39;49m -> \u001b[0m\u001b[32;49m23.3.1\u001b[0m\n",
      "\u001b[1m[\u001b[0m\u001b[34;49mnotice\u001b[0m\u001b[1;39;49m]\u001b[0m\u001b[39;49m To update, run: \u001b[0m\u001b[32;49mpip install --upgrade pip\u001b[0m\n",
      "Note: you may need to restart the kernel to use updated packages.\n"
     ]
    },
    {
     "data": {
      "text/html": [
       "<script>Jupyter.notebook.kernel.restart()</script>"
      ],
      "text/plain": [
       "<IPython.core.display.HTML object>"
      ]
     },
     "execution_count": 11,
     "metadata": {},
     "output_type": "execute_result"
    }
   ],
   "source": [
    "# Setup - Run only once per Kernel App\n",
    "%conda install openjdk -y\n",
    "\n",
    "# install PySpark\n",
    "%pip install pyspark==3.3.0\n",
    "\n",
    "# restart kernel\n",
    "from IPython.core.display import HTML\n",
    "HTML(\"<script>Jupyter.notebook.kernel.restart()</script>\")"
   ]
  },
  {
   "cell_type": "code",
   "execution_count": null,
   "id": "32485a6e-e1ac-4dea-a35d-495cc6b27ff4",
   "metadata": {
    "tags": []
   },
   "outputs": [
    {
     "name": "stderr",
     "output_type": "stream",
     "text": [
      "Warning: Ignoring non-Spark config property: fs.s3a.aws.credentials.provider\n"
     ]
    },
    {
     "name": "stdout",
     "output_type": "stream",
     "text": [
      ":: loading settings :: url = jar:file:/opt/conda/lib/python3.10/site-packages/pyspark/jars/ivy-2.5.0.jar!/org/apache/ivy/core/settings/ivysettings.xml\n"
     ]
    },
    {
     "name": "stderr",
     "output_type": "stream",
     "text": [
      "Ivy Default Cache set to: /root/.ivy2/cache\n",
      "The jars for the packages stored in: /root/.ivy2/jars\n",
      "org.apache.hadoop#hadoop-aws added as a dependency\n",
      ":: resolving dependencies :: org.apache.spark#spark-submit-parent-1c67278c-fb02-4ce5-a656-1aef721fe668;1.0\n",
      "\tconfs: [default]\n",
      "\tfound org.apache.hadoop#hadoop-aws;3.2.2 in central\n",
      "\tfound com.amazonaws#aws-java-sdk-bundle;1.11.563 in central\n",
      ":: resolution report :: resolve 573ms :: artifacts dl 34ms\n",
      "\t:: modules in use:\n",
      "\tcom.amazonaws#aws-java-sdk-bundle;1.11.563 from central in [default]\n",
      "\torg.apache.hadoop#hadoop-aws;3.2.2 from central in [default]\n",
      "\t---------------------------------------------------------------------\n",
      "\t|                  |            modules            ||   artifacts   |\n",
      "\t|       conf       | number| search|dwnlded|evicted|| number|dwnlded|\n",
      "\t---------------------------------------------------------------------\n",
      "\t|      default     |   2   |   0   |   0   |   0   ||   2   |   0   |\n",
      "\t---------------------------------------------------------------------\n",
      ":: retrieving :: org.apache.spark#spark-submit-parent-1c67278c-fb02-4ce5-a656-1aef721fe668\n",
      "\tconfs: [default]\n",
      "\t0 artifacts copied, 2 already retrieved (0kB/31ms)\n"
     ]
    },
    {
     "name": "stdout",
     "output_type": "stream",
     "text": [
      "23/11/09 01:37:52 WARN NativeCodeLoader: Unable to load native-hadoop library for your platform... using builtin-java classes where applicable\n"
     ]
    },
    {
     "name": "stderr",
     "output_type": "stream",
     "text": [
      "Setting default log level to \"WARN\".\n",
      "To adjust logging level use sc.setLogLevel(newLevel). For SparkR, use setLogLevel(newLevel).\n"
     ]
    },
    {
     "name": "stdout",
     "output_type": "stream",
     "text": [
      "3.3.0\n"
     ]
    }
   ],
   "source": [
    "# Import pyspark and build Spark session\n",
    "from pyspark.sql import SparkSession\n",
    "\n",
    "spark = (\n",
    "    SparkSession.builder.appName(\"PySparkApp\")\n",
    "    .config(\"spark.jars.packages\", \"org.apache.hadoop:hadoop-aws:3.2.2\")\n",
    "    .config(\n",
    "        \"fs.s3a.aws.credentials.provider\",\n",
    "        \"com.amazonaws.auth.ContainerCredentialsProvider\",\n",
    "    )\n",
    "    .getOrCreate()\n",
    ")\n",
    "\n",
    "print(spark.version)"
   ]
  },
  {
   "cell_type": "markdown",
   "id": "6022d91c-2bbc-428e-94c4-60155b0fa3e4",
   "metadata": {},
   "source": [
    "## Read submission and comment dummy data"
   ]
  },
  {
   "cell_type": "code",
   "execution_count": null,
   "id": "1ce5e2f7-1384-47bc-963d-6b8dbfe38f04",
   "metadata": {
    "tags": []
   },
   "outputs": [
    {
     "name": "stdout",
     "output_type": "stream",
     "text": [
      "reading combined_dummy from s3a://sagemaker-us-east-1-640225923506/6000_project/combined_dummy/*\n"
     ]
    },
    {
     "name": "stderr",
     "output_type": "stream",
     "text": [
      "[Stage 2:=================================================>         (5 + 1) / 6]\r"
     ]
    },
    {
     "name": "stdout",
     "output_type": "stream",
     "text": [
      "shape of the combined_dummy dataframe is 1,454,993x14\n",
      "CPU times: user 36.1 ms, sys: 3.66 ms, total: 39.8 ms\n",
      "Wall time: 34.4 s\n"
     ]
    },
    {
     "name": "stderr",
     "output_type": "stream",
     "text": [
      "                                                                                \r"
     ]
    }
   ],
   "source": [
    "%%time\n",
    "s3_path = f\"*\"\n",
    "print(f\"reading combined_dummy from {s3_path}\")\n",
    "combined = spark.read.parquet(s3_path, header=True)\n",
    "print(f\"shape of the combined_dummy dataframe is {combined.count():,}x{len(combined.columns)}\")"
   ]
  },
  {
   "cell_type": "code",
   "execution_count": null,
   "id": "286d1b45-91f3-44d1-995c-052351be2eb5",
   "metadata": {
    "tags": []
   },
   "outputs": [
    {
     "name": "stderr",
     "output_type": "stream",
     "text": [
      "                                                                                \r"
     ]
    },
    {
     "name": "stdout",
     "output_type": "stream",
     "text": [
      "+---------+----------+-------------------+--------------------+-----+------+-------+-----------+--------+------+-----------+--------------+----------+-----------+\n",
      "|subreddit|        id|        created_utc|                body|score|gilded|is_zoom|is_coursera|is_udemy|is_edx|is_linkedin|is_masterclass|is_youtube|is_inperson|\n",
      "+---------+----------+-------------------+--------------------+-----+------+-------+-----------+--------+------+-----------+--------------+----------+-----------+\n",
      "|    memes|t1_gtgpcb8|2021-04-05 15:49:18|I appreciate it. ...|   46|     0|      0|          0|       0|     0|          0|             0|         0|          0|\n",
      "|    memes|t1_gtgo8ok|2021-04-05 15:49:45|Ikr! His videos a...|    1|     0|      0|          0|       0|     0|          0|             0|         0|          0|\n",
      "|    memes| t3_mknezj|2021-04-05 15:49:46|You on internet e...|    3|     0|      0|          0|       0|     0|          0|             0|         0|          0|\n",
      "|    memes|t1_gtgq5u8|2021-04-05 15:50:22|yeah, remember wa...|   33|     0|      0|          0|       0|     0|          0|             0|         0|          0|\n",
      "|    memes|t1_gtgqqqi|2021-04-05 15:50:25|MAN DARF DOCH JET...|   19|     0|      0|          0|       0|     0|          0|             0|         0|          0|\n",
      "+---------+----------+-------------------+--------------------+-----+------+-------+-----------+--------+------+-----------+--------------+----------+-----------+\n",
      "only showing top 5 rows\n",
      "\n"
     ]
    }
   ],
   "source": [
    "combined.show(5)"
   ]
  },
  {
   "cell_type": "code",
   "execution_count": null,
   "id": "53b0a5af-941c-4780-8a73-644000f4a3ee",
   "metadata": {
    "tags": []
   },
   "outputs": [
    {
     "name": "stderr",
     "output_type": "stream",
     "text": [
      "[Stage 15:================================================>         (5 + 1) / 6]\r"
     ]
    },
    {
     "name": "stdout",
     "output_type": "stream",
     "text": [
      "+-------+------------------+------+\n",
      "|quarter|         subreddit| count|\n",
      "+-------+------------------+------+\n",
      "| 2021Q1|          coursera|   204|\n",
      "| 2021Q1|funnyonlineclasses|     9|\n",
      "| 2021Q1|             memes|165847|\n",
      "| 2021Q1|         teenagers| 94952|\n",
      "| 2021Q1|              Zoom|  4518|\n",
      "| 2021Q1|           college|  8622|\n",
      "| 2021Q1|            school|  1111|\n",
      "| 2021Q2|              Zoom|  3383|\n",
      "| 2021Q2|             memes|127543|\n",
      "| 2021Q2|          coursera|   363|\n",
      "| 2021Q2|funnyonlineclasses|     4|\n",
      "| 2021Q2|         teenagers| 89831|\n",
      "| 2021Q2|           college|  6550|\n",
      "| 2021Q2|            school|   659|\n",
      "| 2021Q3|            school|   573|\n",
      "| 2021Q3|              Zoom|  2978|\n",
      "| 2021Q3|          coursera|   296|\n",
      "| 2021Q3|         teenagers| 91571|\n",
      "| 2021Q3|             memes| 85267|\n",
      "| 2021Q3|funnyonlineclasses|     1|\n",
      "+-------+------------------+------+\n",
      "only showing top 20 rows\n",
      "\n"
     ]
    },
    {
     "name": "stderr",
     "output_type": "stream",
     "text": [
      "                                                                                \r"
     ]
    }
   ],
   "source": [
    "from pyspark.sql.functions import date_format, quarter\n",
    "\n",
    "combined = combined.withColumn(\"created_utc\", combined[\"created_utc\"].cast(\"date\"))\n",
    "# Extract the quarter from the \"created_utc\" column\n",
    "combined = combined.withColumn(\"quarter\", quarter(\"created_utc\"))\n",
    "combined = combined.withColumn(\"quarter\", date_format(\"created_utc\", \"yyyy'Q'Q\"))\n",
    "# Group by \"subreddit\" and then by \"quarter\"\n",
    "result = combined.groupBy(\"quarter\",\"subreddit\").count().orderBy(\"quarter\")\n",
    "# Show the resulting DataFrame\n",
    "result.show()\n"
   ]
  },
  {
   "cell_type": "code",
   "execution_count": null,
   "id": "03dad684-6852-47fa-859b-2f82112da21f",
   "metadata": {
    "tags": []
   },
   "outputs": [],
   "source": [
    "# Save the resulting dataframe\n",
    "result_df = result.toPandas()"
   ]
  },
  {
   "cell_type": "code",
   "execution_count": null,
   "id": "9eb52f31-c898-427a-803b-f23e6b84f308",
   "metadata": {
    "tags": []
   },
   "outputs": [
    {
     "data": {
      "text/html": [
       "<div>\n",
       "<style scoped>\n",
       "    .dataframe tbody tr th:only-of-type {\n",
       "        vertical-align: middle;\n",
       "    }\n",
       "\n",
       "    .dataframe tbody tr th {\n",
       "        vertical-align: top;\n",
       "    }\n",
       "\n",
       "    .dataframe thead th {\n",
       "        text-align: right;\n",
       "    }\n",
       "</style>\n",
       "<table border=\"1\" class=\"dataframe\">\n",
       "  <thead>\n",
       "    <tr style=\"text-align: right;\">\n",
       "      <th></th>\n",
       "      <th>quarter</th>\n",
       "      <th>subreddit</th>\n",
       "      <th>count</th>\n",
       "      <th>New_cases</th>\n",
       "    </tr>\n",
       "  </thead>\n",
       "  <tbody>\n",
       "    <tr>\n",
       "      <th>0</th>\n",
       "      <td>2021Q1</td>\n",
       "      <td>Zoom</td>\n",
       "      <td>4518</td>\n",
       "      <td>10529087</td>\n",
       "    </tr>\n",
       "    <tr>\n",
       "      <th>1</th>\n",
       "      <td>2021Q1</td>\n",
       "      <td>college</td>\n",
       "      <td>8622</td>\n",
       "      <td>10529087</td>\n",
       "    </tr>\n",
       "    <tr>\n",
       "      <th>2</th>\n",
       "      <td>2021Q1</td>\n",
       "      <td>funnyonlineclasses</td>\n",
       "      <td>9</td>\n",
       "      <td>10529087</td>\n",
       "    </tr>\n",
       "    <tr>\n",
       "      <th>3</th>\n",
       "      <td>2021Q1</td>\n",
       "      <td>teenagers</td>\n",
       "      <td>94952</td>\n",
       "      <td>10529087</td>\n",
       "    </tr>\n",
       "    <tr>\n",
       "      <th>4</th>\n",
       "      <td>2021Q1</td>\n",
       "      <td>school</td>\n",
       "      <td>1111</td>\n",
       "      <td>10529087</td>\n",
       "    </tr>\n",
       "    <tr>\n",
       "      <th>...</th>\n",
       "      <td>...</td>\n",
       "      <td>...</td>\n",
       "      <td>...</td>\n",
       "      <td>...</td>\n",
       "    </tr>\n",
       "    <tr>\n",
       "      <th>57</th>\n",
       "      <td>2023Q1</td>\n",
       "      <td>Zoom</td>\n",
       "      <td>1668</td>\n",
       "      <td>3285870</td>\n",
       "    </tr>\n",
       "    <tr>\n",
       "      <th>58</th>\n",
       "      <td>2023Q1</td>\n",
       "      <td>memes</td>\n",
       "      <td>36373</td>\n",
       "      <td>3285870</td>\n",
       "    </tr>\n",
       "    <tr>\n",
       "      <th>59</th>\n",
       "      <td>2023Q1</td>\n",
       "      <td>school</td>\n",
       "      <td>452</td>\n",
       "      <td>3285870</td>\n",
       "    </tr>\n",
       "    <tr>\n",
       "      <th>60</th>\n",
       "      <td>2023Q1</td>\n",
       "      <td>coursera</td>\n",
       "      <td>370</td>\n",
       "      <td>3285870</td>\n",
       "    </tr>\n",
       "    <tr>\n",
       "      <th>61</th>\n",
       "      <td>2023Q1</td>\n",
       "      <td>funnyonlineclasses</td>\n",
       "      <td>1</td>\n",
       "      <td>3285870</td>\n",
       "    </tr>\n",
       "  </tbody>\n",
       "</table>\n",
       "<p>62 rows × 4 columns</p>\n",
       "</div>"
      ],
      "text/plain": [
       "   quarter           subreddit  count  New_cases\n",
       "0   2021Q1                Zoom   4518   10529087\n",
       "1   2021Q1             college   8622   10529087\n",
       "2   2021Q1  funnyonlineclasses      9   10529087\n",
       "3   2021Q1           teenagers  94952   10529087\n",
       "4   2021Q1              school   1111   10529087\n",
       "..     ...                 ...    ...        ...\n",
       "57  2023Q1                Zoom   1668    3285870\n",
       "58  2023Q1               memes  36373    3285870\n",
       "59  2023Q1              school    452    3285870\n",
       "60  2023Q1            coursera    370    3285870\n",
       "61  2023Q1  funnyonlineclasses      1    3285870\n",
       "\n",
       "[62 rows x 4 columns]"
      ]
     },
     "execution_count": 30,
     "metadata": {},
     "output_type": "execute_result"
    }
   ],
   "source": [
    "# Change the type of the quarter column\n",
    "result_df['quarter'] = pd.to_datetime(result_df['quarter']).dt.to_period('Q-DEC')\n",
    "# Merge it to the covid dataframe\n",
    "covid_reddit = result_df.merge(covid_q,on='quarter')\n",
    "covid_reddit['quarter'] = covid_reddit['quarter'].astype(str)\n",
    "covid_reddit"
   ]
  },
  {
   "cell_type": "markdown",
   "id": "bad60ab4-16d1-45ee-9208-f344ff159e85",
   "metadata": {},
   "source": [
    "## Save the dataframe to csv"
   ]
  },
  {
   "cell_type": "code",
   "execution_count": null,
   "id": "9f47f1c9-0a77-4864-ae95-5f0787068504",
   "metadata": {
    "tags": []
   },
   "outputs": [],
   "source": [
    "covid_reddit.to_csv(\"../../data/csv/covid_reddit.csv\",index=False)"
   ]
  },
  {
   "cell_type": "markdown",
   "id": "2bfdd015-bbfe-4636-99ee-b614ffb406f4",
   "metadata": {},
   "source": [
    "## Create the scatter plot and the trend of the covid"
   ]
  },
  {
   "cell_type": "code",
   "execution_count": 1,
   "id": "861c61ad",
   "metadata": {},
   "outputs": [],
   "source": [
    "import pandas as pd\n",
    "covid_reddit = pd.read_csv(\"../../data/csv/covid_reddit.csv\")"
   ]
  },
  {
   "cell_type": "code",
   "execution_count": 3,
   "id": "f47001f4-507e-4334-9ed3-52508d85d63c",
   "metadata": {
    "tags": []
   },
   "outputs": [
    {
     "data": {
      "application/vnd.plotly.v1+json": {
       "config": {
        "plotlyServerURL": "https://plot.ly"
       },
       "data": [
        {
         "line": {
          "color": "#0066cc"
         },
         "mode": "lines",
         "name": "Covid New Cases",
         "type": "scatter",
         "x": [
          "2021Q1",
          "2021Q1",
          "2021Q1",
          "2021Q1",
          "2021Q1",
          "2021Q1",
          "2021Q1",
          "2021Q2",
          "2021Q2",
          "2021Q2",
          "2021Q2",
          "2021Q2",
          "2021Q2",
          "2021Q2",
          "2021Q3",
          "2021Q3",
          "2021Q3",
          "2021Q3",
          "2021Q3",
          "2021Q3",
          "2021Q3",
          "2021Q4",
          "2021Q4",
          "2021Q4",
          "2021Q4",
          "2021Q4",
          "2021Q4",
          "2021Q4",
          "2022Q1",
          "2022Q1",
          "2022Q1",
          "2022Q1",
          "2022Q1",
          "2022Q1",
          "2022Q1",
          "2022Q2",
          "2022Q2",
          "2022Q2",
          "2022Q2",
          "2022Q2",
          "2022Q2",
          "2022Q2",
          "2022Q3",
          "2022Q3",
          "2022Q3",
          "2022Q3",
          "2022Q3",
          "2022Q3",
          "2022Q4",
          "2022Q4",
          "2022Q4",
          "2022Q4",
          "2022Q4",
          "2022Q4",
          "2022Q4",
          "2023Q1",
          "2023Q1",
          "2023Q1",
          "2023Q1",
          "2023Q1",
          "2023Q1",
          "2023Q1"
         ],
         "xaxis": "x",
         "y": [
          10529087,
          10529087,
          10529087,
          10529087,
          10529087,
          10529087,
          10529087,
          3199599,
          3199599,
          3199599,
          3199599,
          3199599,
          3199599,
          3199599,
          9672951,
          9672951,
          9672951,
          9672951,
          9672951,
          9672951,
          9672951,
          10555064,
          10555064,
          10555064,
          10555064,
          10555064,
          10555064,
          10555064,
          25847661,
          25847661,
          25847661,
          25847661,
          25847661,
          25847661,
          25847661,
          6928001,
          6928001,
          6928001,
          6928001,
          6928001,
          6928001,
          6928001,
          8660726,
          8660726,
          8660726,
          8660726,
          8660726,
          8660726,
          4441022,
          4441022,
          4441022,
          4441022,
          4441022,
          4441022,
          4441022,
          3285870,
          3285870,
          3285870,
          3285870,
          3285870,
          3285870,
          3285870
         ],
         "yaxis": "y"
        },
        {
         "marker": {
          "color": "blue",
          "size": 9
         },
         "mode": "markers",
         "name": "Zoom",
         "type": "scatter",
         "x": [
          "2021Q1",
          "2021Q2",
          "2021Q3",
          "2021Q4",
          "2022Q1",
          "2022Q2",
          "2022Q3",
          "2022Q4",
          "2023Q1"
         ],
         "xaxis": "x2",
         "y": [
          4518,
          3383,
          2978,
          2050,
          2935,
          1839,
          1632,
          1426,
          1668
         ],
         "yaxis": "y2"
        },
        {
         "marker": {
          "color": "#ff3300",
          "size": 9
         },
         "mode": "markers",
         "name": "college",
         "type": "scatter",
         "x": [
          "2021Q1",
          "2021Q2",
          "2021Q3",
          "2021Q4",
          "2022Q1",
          "2022Q2",
          "2022Q3",
          "2022Q4",
          "2023Q1"
         ],
         "xaxis": "x2",
         "y": [
          8622,
          6550,
          7418,
          7709,
          9506,
          7200,
          8111,
          6620,
          6818
         ],
         "yaxis": "y2"
        },
        {
         "marker": {
          "color": "green",
          "size": 9
         },
         "mode": "markers",
         "name": "funnyonlineclasses",
         "type": "scatter",
         "x": [
          "2021Q1",
          "2021Q2",
          "2021Q3",
          "2021Q4",
          "2022Q1",
          "2022Q2",
          "2022Q4",
          "2023Q1"
         ],
         "xaxis": "x2",
         "y": [
          9,
          4,
          1,
          4,
          2,
          3,
          2,
          1
         ],
         "yaxis": "y2"
        },
        {
         "marker": {
          "color": "#9966ff",
          "size": 9
         },
         "mode": "markers",
         "name": "teenagers",
         "type": "scatter",
         "x": [
          "2021Q1",
          "2021Q2",
          "2021Q3",
          "2021Q4",
          "2022Q1",
          "2022Q2",
          "2022Q3",
          "2022Q4",
          "2023Q1"
         ],
         "xaxis": "x2",
         "y": [
          94952,
          89831,
          91571,
          91383,
          93798,
          72870,
          71975,
          54529,
          48109
         ],
         "yaxis": "y2"
        },
        {
         "marker": {
          "color": "orange",
          "size": 9
         },
         "mode": "markers",
         "name": "school",
         "type": "scatter",
         "x": [
          "2021Q1",
          "2021Q2",
          "2021Q3",
          "2021Q4",
          "2022Q1",
          "2022Q2",
          "2022Q3",
          "2022Q4",
          "2023Q1"
         ],
         "xaxis": "x2",
         "y": [
          1111,
          659,
          573,
          407,
          395,
          360,
          461,
          427,
          452
         ],
         "yaxis": "y2"
        },
        {
         "marker": {
          "color": "#33ccff",
          "size": 9
         },
         "mode": "markers",
         "name": "coursera",
         "type": "scatter",
         "x": [
          "2021Q1",
          "2021Q2",
          "2021Q3",
          "2021Q4",
          "2022Q1",
          "2022Q2",
          "2022Q3",
          "2022Q4",
          "2023Q1"
         ],
         "xaxis": "x2",
         "y": [
          204,
          363,
          296,
          301,
          329,
          272,
          296,
          308,
          370
         ],
         "yaxis": "y2"
        },
        {
         "marker": {
          "color": "#ff3399",
          "size": 9
         },
         "mode": "markers",
         "name": "memes",
         "type": "scatter",
         "x": [
          "2021Q1",
          "2021Q2",
          "2021Q3",
          "2021Q4",
          "2022Q1",
          "2022Q2",
          "2022Q3",
          "2022Q4",
          "2023Q1"
         ],
         "xaxis": "x2",
         "y": [
          165847,
          127543,
          85267,
          64443,
          53059,
          40999,
          38555,
          35296,
          36373
         ],
         "yaxis": "y2"
        }
       ],
       "layout": {
        "height": 700,
        "legend": {
         "title": {
          "text": "Covid and Subreddits"
         }
        },
        "showlegend": true,
        "template": {
         "data": {
          "bar": [
           {
            "error_x": {
             "color": "#2a3f5f"
            },
            "error_y": {
             "color": "#2a3f5f"
            },
            "marker": {
             "line": {
              "color": "#E5ECF6",
              "width": 0.5
             },
             "pattern": {
              "fillmode": "overlay",
              "size": 10,
              "solidity": 0.2
             }
            },
            "type": "bar"
           }
          ],
          "barpolar": [
           {
            "marker": {
             "line": {
              "color": "#E5ECF6",
              "width": 0.5
             },
             "pattern": {
              "fillmode": "overlay",
              "size": 10,
              "solidity": 0.2
             }
            },
            "type": "barpolar"
           }
          ],
          "carpet": [
           {
            "aaxis": {
             "endlinecolor": "#2a3f5f",
             "gridcolor": "white",
             "linecolor": "white",
             "minorgridcolor": "white",
             "startlinecolor": "#2a3f5f"
            },
            "baxis": {
             "endlinecolor": "#2a3f5f",
             "gridcolor": "white",
             "linecolor": "white",
             "minorgridcolor": "white",
             "startlinecolor": "#2a3f5f"
            },
            "type": "carpet"
           }
          ],
          "choropleth": [
           {
            "colorbar": {
             "outlinewidth": 0,
             "ticks": ""
            },
            "type": "choropleth"
           }
          ],
          "contour": [
           {
            "colorbar": {
             "outlinewidth": 0,
             "ticks": ""
            },
            "colorscale": [
             [
              0,
              "#0d0887"
             ],
             [
              0.1111111111111111,
              "#46039f"
             ],
             [
              0.2222222222222222,
              "#7201a8"
             ],
             [
              0.3333333333333333,
              "#9c179e"
             ],
             [
              0.4444444444444444,
              "#bd3786"
             ],
             [
              0.5555555555555556,
              "#d8576b"
             ],
             [
              0.6666666666666666,
              "#ed7953"
             ],
             [
              0.7777777777777778,
              "#fb9f3a"
             ],
             [
              0.8888888888888888,
              "#fdca26"
             ],
             [
              1,
              "#f0f921"
             ]
            ],
            "type": "contour"
           }
          ],
          "contourcarpet": [
           {
            "colorbar": {
             "outlinewidth": 0,
             "ticks": ""
            },
            "type": "contourcarpet"
           }
          ],
          "heatmap": [
           {
            "colorbar": {
             "outlinewidth": 0,
             "ticks": ""
            },
            "colorscale": [
             [
              0,
              "#0d0887"
             ],
             [
              0.1111111111111111,
              "#46039f"
             ],
             [
              0.2222222222222222,
              "#7201a8"
             ],
             [
              0.3333333333333333,
              "#9c179e"
             ],
             [
              0.4444444444444444,
              "#bd3786"
             ],
             [
              0.5555555555555556,
              "#d8576b"
             ],
             [
              0.6666666666666666,
              "#ed7953"
             ],
             [
              0.7777777777777778,
              "#fb9f3a"
             ],
             [
              0.8888888888888888,
              "#fdca26"
             ],
             [
              1,
              "#f0f921"
             ]
            ],
            "type": "heatmap"
           }
          ],
          "heatmapgl": [
           {
            "colorbar": {
             "outlinewidth": 0,
             "ticks": ""
            },
            "colorscale": [
             [
              0,
              "#0d0887"
             ],
             [
              0.1111111111111111,
              "#46039f"
             ],
             [
              0.2222222222222222,
              "#7201a8"
             ],
             [
              0.3333333333333333,
              "#9c179e"
             ],
             [
              0.4444444444444444,
              "#bd3786"
             ],
             [
              0.5555555555555556,
              "#d8576b"
             ],
             [
              0.6666666666666666,
              "#ed7953"
             ],
             [
              0.7777777777777778,
              "#fb9f3a"
             ],
             [
              0.8888888888888888,
              "#fdca26"
             ],
             [
              1,
              "#f0f921"
             ]
            ],
            "type": "heatmapgl"
           }
          ],
          "histogram": [
           {
            "marker": {
             "pattern": {
              "fillmode": "overlay",
              "size": 10,
              "solidity": 0.2
             }
            },
            "type": "histogram"
           }
          ],
          "histogram2d": [
           {
            "colorbar": {
             "outlinewidth": 0,
             "ticks": ""
            },
            "colorscale": [
             [
              0,
              "#0d0887"
             ],
             [
              0.1111111111111111,
              "#46039f"
             ],
             [
              0.2222222222222222,
              "#7201a8"
             ],
             [
              0.3333333333333333,
              "#9c179e"
             ],
             [
              0.4444444444444444,
              "#bd3786"
             ],
             [
              0.5555555555555556,
              "#d8576b"
             ],
             [
              0.6666666666666666,
              "#ed7953"
             ],
             [
              0.7777777777777778,
              "#fb9f3a"
             ],
             [
              0.8888888888888888,
              "#fdca26"
             ],
             [
              1,
              "#f0f921"
             ]
            ],
            "type": "histogram2d"
           }
          ],
          "histogram2dcontour": [
           {
            "colorbar": {
             "outlinewidth": 0,
             "ticks": ""
            },
            "colorscale": [
             [
              0,
              "#0d0887"
             ],
             [
              0.1111111111111111,
              "#46039f"
             ],
             [
              0.2222222222222222,
              "#7201a8"
             ],
             [
              0.3333333333333333,
              "#9c179e"
             ],
             [
              0.4444444444444444,
              "#bd3786"
             ],
             [
              0.5555555555555556,
              "#d8576b"
             ],
             [
              0.6666666666666666,
              "#ed7953"
             ],
             [
              0.7777777777777778,
              "#fb9f3a"
             ],
             [
              0.8888888888888888,
              "#fdca26"
             ],
             [
              1,
              "#f0f921"
             ]
            ],
            "type": "histogram2dcontour"
           }
          ],
          "mesh3d": [
           {
            "colorbar": {
             "outlinewidth": 0,
             "ticks": ""
            },
            "type": "mesh3d"
           }
          ],
          "parcoords": [
           {
            "line": {
             "colorbar": {
              "outlinewidth": 0,
              "ticks": ""
             }
            },
            "type": "parcoords"
           }
          ],
          "pie": [
           {
            "automargin": true,
            "type": "pie"
           }
          ],
          "scatter": [
           {
            "fillpattern": {
             "fillmode": "overlay",
             "size": 10,
             "solidity": 0.2
            },
            "type": "scatter"
           }
          ],
          "scatter3d": [
           {
            "line": {
             "colorbar": {
              "outlinewidth": 0,
              "ticks": ""
             }
            },
            "marker": {
             "colorbar": {
              "outlinewidth": 0,
              "ticks": ""
             }
            },
            "type": "scatter3d"
           }
          ],
          "scattercarpet": [
           {
            "marker": {
             "colorbar": {
              "outlinewidth": 0,
              "ticks": ""
             }
            },
            "type": "scattercarpet"
           }
          ],
          "scattergeo": [
           {
            "marker": {
             "colorbar": {
              "outlinewidth": 0,
              "ticks": ""
             }
            },
            "type": "scattergeo"
           }
          ],
          "scattergl": [
           {
            "marker": {
             "colorbar": {
              "outlinewidth": 0,
              "ticks": ""
             }
            },
            "type": "scattergl"
           }
          ],
          "scattermapbox": [
           {
            "marker": {
             "colorbar": {
              "outlinewidth": 0,
              "ticks": ""
             }
            },
            "type": "scattermapbox"
           }
          ],
          "scatterpolar": [
           {
            "marker": {
             "colorbar": {
              "outlinewidth": 0,
              "ticks": ""
             }
            },
            "type": "scatterpolar"
           }
          ],
          "scatterpolargl": [
           {
            "marker": {
             "colorbar": {
              "outlinewidth": 0,
              "ticks": ""
             }
            },
            "type": "scatterpolargl"
           }
          ],
          "scatterternary": [
           {
            "marker": {
             "colorbar": {
              "outlinewidth": 0,
              "ticks": ""
             }
            },
            "type": "scatterternary"
           }
          ],
          "surface": [
           {
            "colorbar": {
             "outlinewidth": 0,
             "ticks": ""
            },
            "colorscale": [
             [
              0,
              "#0d0887"
             ],
             [
              0.1111111111111111,
              "#46039f"
             ],
             [
              0.2222222222222222,
              "#7201a8"
             ],
             [
              0.3333333333333333,
              "#9c179e"
             ],
             [
              0.4444444444444444,
              "#bd3786"
             ],
             [
              0.5555555555555556,
              "#d8576b"
             ],
             [
              0.6666666666666666,
              "#ed7953"
             ],
             [
              0.7777777777777778,
              "#fb9f3a"
             ],
             [
              0.8888888888888888,
              "#fdca26"
             ],
             [
              1,
              "#f0f921"
             ]
            ],
            "type": "surface"
           }
          ],
          "table": [
           {
            "cells": {
             "fill": {
              "color": "#EBF0F8"
             },
             "line": {
              "color": "white"
             }
            },
            "header": {
             "fill": {
              "color": "#C8D4E3"
             },
             "line": {
              "color": "white"
             }
            },
            "type": "table"
           }
          ]
         },
         "layout": {
          "annotationdefaults": {
           "arrowcolor": "#2a3f5f",
           "arrowhead": 0,
           "arrowwidth": 1
          },
          "autotypenumbers": "strict",
          "coloraxis": {
           "colorbar": {
            "outlinewidth": 0,
            "ticks": ""
           }
          },
          "colorscale": {
           "diverging": [
            [
             0,
             "#8e0152"
            ],
            [
             0.1,
             "#c51b7d"
            ],
            [
             0.2,
             "#de77ae"
            ],
            [
             0.3,
             "#f1b6da"
            ],
            [
             0.4,
             "#fde0ef"
            ],
            [
             0.5,
             "#f7f7f7"
            ],
            [
             0.6,
             "#e6f5d0"
            ],
            [
             0.7,
             "#b8e186"
            ],
            [
             0.8,
             "#7fbc41"
            ],
            [
             0.9,
             "#4d9221"
            ],
            [
             1,
             "#276419"
            ]
           ],
           "sequential": [
            [
             0,
             "#0d0887"
            ],
            [
             0.1111111111111111,
             "#46039f"
            ],
            [
             0.2222222222222222,
             "#7201a8"
            ],
            [
             0.3333333333333333,
             "#9c179e"
            ],
            [
             0.4444444444444444,
             "#bd3786"
            ],
            [
             0.5555555555555556,
             "#d8576b"
            ],
            [
             0.6666666666666666,
             "#ed7953"
            ],
            [
             0.7777777777777778,
             "#fb9f3a"
            ],
            [
             0.8888888888888888,
             "#fdca26"
            ],
            [
             1,
             "#f0f921"
            ]
           ],
           "sequentialminus": [
            [
             0,
             "#0d0887"
            ],
            [
             0.1111111111111111,
             "#46039f"
            ],
            [
             0.2222222222222222,
             "#7201a8"
            ],
            [
             0.3333333333333333,
             "#9c179e"
            ],
            [
             0.4444444444444444,
             "#bd3786"
            ],
            [
             0.5555555555555556,
             "#d8576b"
            ],
            [
             0.6666666666666666,
             "#ed7953"
            ],
            [
             0.7777777777777778,
             "#fb9f3a"
            ],
            [
             0.8888888888888888,
             "#fdca26"
            ],
            [
             1,
             "#f0f921"
            ]
           ]
          },
          "colorway": [
           "#636efa",
           "#EF553B",
           "#00cc96",
           "#ab63fa",
           "#FFA15A",
           "#19d3f3",
           "#FF6692",
           "#B6E880",
           "#FF97FF",
           "#FECB52"
          ],
          "font": {
           "color": "#2a3f5f"
          },
          "geo": {
           "bgcolor": "white",
           "lakecolor": "white",
           "landcolor": "#E5ECF6",
           "showlakes": true,
           "showland": true,
           "subunitcolor": "white"
          },
          "hoverlabel": {
           "align": "left"
          },
          "hovermode": "closest",
          "mapbox": {
           "style": "light"
          },
          "paper_bgcolor": "white",
          "plot_bgcolor": "#E5ECF6",
          "polar": {
           "angularaxis": {
            "gridcolor": "white",
            "linecolor": "white",
            "ticks": ""
           },
           "bgcolor": "#E5ECF6",
           "radialaxis": {
            "gridcolor": "white",
            "linecolor": "white",
            "ticks": ""
           }
          },
          "scene": {
           "xaxis": {
            "backgroundcolor": "#E5ECF6",
            "gridcolor": "white",
            "gridwidth": 2,
            "linecolor": "white",
            "showbackground": true,
            "ticks": "",
            "zerolinecolor": "white"
           },
           "yaxis": {
            "backgroundcolor": "#E5ECF6",
            "gridcolor": "white",
            "gridwidth": 2,
            "linecolor": "white",
            "showbackground": true,
            "ticks": "",
            "zerolinecolor": "white"
           },
           "zaxis": {
            "backgroundcolor": "#E5ECF6",
            "gridcolor": "white",
            "gridwidth": 2,
            "linecolor": "white",
            "showbackground": true,
            "ticks": "",
            "zerolinecolor": "white"
           }
          },
          "shapedefaults": {
           "line": {
            "color": "#2a3f5f"
           }
          },
          "ternary": {
           "aaxis": {
            "gridcolor": "white",
            "linecolor": "white",
            "ticks": ""
           },
           "baxis": {
            "gridcolor": "white",
            "linecolor": "white",
            "ticks": ""
           },
           "bgcolor": "#E5ECF6",
           "caxis": {
            "gridcolor": "white",
            "linecolor": "white",
            "ticks": ""
           }
          },
          "title": {
           "x": 0.05
          },
          "xaxis": {
           "automargin": true,
           "gridcolor": "white",
           "linecolor": "white",
           "ticks": "",
           "title": {
            "standoff": 15
           },
           "zerolinecolor": "white",
           "zerolinewidth": 2
          },
          "yaxis": {
           "automargin": true,
           "gridcolor": "white",
           "linecolor": "white",
           "ticks": "",
           "title": {
            "standoff": 15
           },
           "zerolinecolor": "white",
           "zerolinewidth": 2
          }
         }
        },
        "title": {
         "text": "Trends of Covid new cases and Reddit posts"
        },
        "width": 800,
        "xaxis": {
         "anchor": "y",
         "domain": [
          0,
          1
         ],
         "matches": "x2",
         "showticklabels": false
        },
        "xaxis2": {
         "anchor": "y2",
         "domain": [
          0,
          1
         ],
         "title": {
          "text": "Time"
         }
        },
        "yaxis": {
         "anchor": "x",
         "domain": [
          0.806,
          1
         ],
         "title": {
          "text": "Log of New Cases"
         },
         "type": "log"
        },
        "yaxis2": {
         "anchor": "x2",
         "domain": [
          0,
          0.776
         ],
         "title": {
          "text": "Log of Reddit Posts"
         },
         "type": "log"
        }
       }
      }
     },
     "metadata": {},
     "output_type": "display_data"
    }
   ],
   "source": [
    "import plotly.subplots as sp\n",
    "import plotly.graph_objects as go\n",
    "\n",
    "# Create sub dataframes for each subreddit\n",
    "zoom_data = covid_reddit[covid_reddit['subreddit'] == 'Zoom']\n",
    "college_data = covid_reddit[covid_reddit['subreddit'] == 'college']\n",
    "funnyonlineclasses_data = covid_reddit[covid_reddit['subreddit'] == 'funnyonlineclasses']\n",
    "teenagers_data = covid_reddit[covid_reddit['subreddit'] == 'teenagers']\n",
    "school_data = covid_reddit[covid_reddit['subreddit'] == 'school']\n",
    "coursera_data = covid_reddit[covid_reddit['subreddit'] == 'coursera']\n",
    "memes_data = covid_reddit[covid_reddit['subreddit'] == 'memes']\n",
    "\n",
    "# Create a subplot\n",
    "fig = sp.make_subplots(rows=2, cols=1, shared_xaxes=True, vertical_spacing=0.03,\n",
    "                       row_heights=[0.2, 0.8])\n",
    "\n",
    "# Scatter plot for each subreddit posts\n",
    "scatter_trace_1 = go.Scatter(x=zoom_data['quarter'], y=zoom_data['count'],\n",
    "                           mode='markers', marker=dict(size=9,color=\"blue\"),\n",
    "                           name='Zoom')\n",
    "scatter_trace_2 = go.Scatter(x=college_data['quarter'], y=college_data['count'],\n",
    "                           mode='markers', marker=dict(size=9,color=\"#ff3300\"),\n",
    "                           name='college')\n",
    "scatter_trace_3 = go.Scatter(x=funnyonlineclasses_data['quarter'], y=funnyonlineclasses_data['count'],\n",
    "                           mode='markers', marker=dict(size=9,color=\"green\"),\n",
    "                           name='funnyonlineclasses')\n",
    "scatter_trace_4 = go.Scatter(x=teenagers_data['quarter'], y=teenagers_data['count'],\n",
    "                           mode='markers', marker=dict(size=9,color=\"#9966ff\"),\n",
    "                           name='teenagers')\n",
    "scatter_trace_5 = go.Scatter(x=school_data['quarter'], y=school_data['count'],\n",
    "                           mode='markers', marker=dict(size=9,color=\"orange\"),\n",
    "                           name='school')\n",
    "scatter_trace_6 = go.Scatter(x=coursera_data['quarter'], y=coursera_data['count'],\n",
    "                           mode='markers', marker=dict(size=9,color=\"#33ccff\"),\n",
    "                           name='coursera')\n",
    "scatter_trace_7 = go.Scatter(x=memes_data['quarter'], y=memes_data['count'],\n",
    "                           mode='markers', marker=dict(size=9,color=\"#ff3399\"),\n",
    "                           name='memes')\n",
    "\n",
    "# Line plot for Covid New Cases\n",
    "line_trace = go.Scatter(x=covid_reddit['quarter'], y=covid_reddit['New_cases'],\n",
    "                        mode='lines', line=dict(color='#0066cc'), name='Covid New Cases')\n",
    "\n",
    "# Add traces to the subplots\n",
    "fig.add_trace(line_trace, row=1, col=1)\n",
    "fig.add_trace(scatter_trace_1, row=2, col=1)\n",
    "fig.add_trace(scatter_trace_2, row=2, col=1)\n",
    "fig.add_trace(scatter_trace_3, row=2, col=1)\n",
    "fig.add_trace(scatter_trace_4, row=2, col=1)\n",
    "fig.add_trace(scatter_trace_5, row=2, col=1)\n",
    "fig.add_trace(scatter_trace_6, row=2, col=1)\n",
    "fig.add_trace(scatter_trace_7, row=2, col=1)\n",
    "\n",
    "# Update the title, legend, \n",
    "fig.update_layout(\n",
    "    title=\"Trends of Covid new cases and Reddit posts\",\n",
    "    legend_title=\"Covid and Subreddits\",\n",
    "    showlegend=True,\n",
    "    height=700,\n",
    "    width=800\n",
    ")\n",
    "\n",
    "fig.update_yaxes(title_text=\"Log of New Cases\",type='log', row=1, col=1)\n",
    "\n",
    "# Update x and y-axis title for the second subplot\n",
    "fig.update_yaxes(title_text=\"Log of Reddit Posts\", type='log',row=2, col=1)\n",
    "fig.update_xaxes(title_text=\"Time\",row=2, col=1)\n",
    "\n",
    "fig.show()\n",
    "fig.write_html(\"../../docs/pages/covid_bubble_plot.html\")"
   ]
  },
  {
   "cell_type": "code",
   "execution_count": null,
   "id": "f7eb6785-c5ac-4293-98f8-70d5168b3534",
   "metadata": {},
   "outputs": [],
   "source": []
  }
 ],
 "metadata": {
  "availableInstances": [
   {
    "_defaultOrder": 0,
    "_isFastLaunch": true,
    "category": "General purpose",
    "gpuNum": 0,
    "hideHardwareSpecs": false,
    "memoryGiB": 4,
    "name": "ml.t3.medium",
    "vcpuNum": 2
   },
   {
    "_defaultOrder": 1,
    "_isFastLaunch": false,
    "category": "General purpose",
    "gpuNum": 0,
    "hideHardwareSpecs": false,
    "memoryGiB": 8,
    "name": "ml.t3.large",
    "vcpuNum": 2
   },
   {
    "_defaultOrder": 2,
    "_isFastLaunch": false,
    "category": "General purpose",
    "gpuNum": 0,
    "hideHardwareSpecs": false,
    "memoryGiB": 16,
    "name": "ml.t3.xlarge",
    "vcpuNum": 4
   },
   {
    "_defaultOrder": 3,
    "_isFastLaunch": false,
    "category": "General purpose",
    "gpuNum": 0,
    "hideHardwareSpecs": false,
    "memoryGiB": 32,
    "name": "ml.t3.2xlarge",
    "vcpuNum": 8
   },
   {
    "_defaultOrder": 4,
    "_isFastLaunch": true,
    "category": "General purpose",
    "gpuNum": 0,
    "hideHardwareSpecs": false,
    "memoryGiB": 8,
    "name": "ml.m5.large",
    "vcpuNum": 2
   },
   {
    "_defaultOrder": 5,
    "_isFastLaunch": false,
    "category": "General purpose",
    "gpuNum": 0,
    "hideHardwareSpecs": false,
    "memoryGiB": 16,
    "name": "ml.m5.xlarge",
    "vcpuNum": 4
   },
   {
    "_defaultOrder": 6,
    "_isFastLaunch": false,
    "category": "General purpose",
    "gpuNum": 0,
    "hideHardwareSpecs": false,
    "memoryGiB": 32,
    "name": "ml.m5.2xlarge",
    "vcpuNum": 8
   },
   {
    "_defaultOrder": 7,
    "_isFastLaunch": false,
    "category": "General purpose",
    "gpuNum": 0,
    "hideHardwareSpecs": false,
    "memoryGiB": 64,
    "name": "ml.m5.4xlarge",
    "vcpuNum": 16
   },
   {
    "_defaultOrder": 8,
    "_isFastLaunch": false,
    "category": "General purpose",
    "gpuNum": 0,
    "hideHardwareSpecs": false,
    "memoryGiB": 128,
    "name": "ml.m5.8xlarge",
    "vcpuNum": 32
   },
   {
    "_defaultOrder": 9,
    "_isFastLaunch": false,
    "category": "General purpose",
    "gpuNum": 0,
    "hideHardwareSpecs": false,
    "memoryGiB": 192,
    "name": "ml.m5.12xlarge",
    "vcpuNum": 48
   },
   {
    "_defaultOrder": 10,
    "_isFastLaunch": false,
    "category": "General purpose",
    "gpuNum": 0,
    "hideHardwareSpecs": false,
    "memoryGiB": 256,
    "name": "ml.m5.16xlarge",
    "vcpuNum": 64
   },
   {
    "_defaultOrder": 11,
    "_isFastLaunch": false,
    "category": "General purpose",
    "gpuNum": 0,
    "hideHardwareSpecs": false,
    "memoryGiB": 384,
    "name": "ml.m5.24xlarge",
    "vcpuNum": 96
   },
   {
    "_defaultOrder": 12,
    "_isFastLaunch": false,
    "category": "General purpose",
    "gpuNum": 0,
    "hideHardwareSpecs": false,
    "memoryGiB": 8,
    "name": "ml.m5d.large",
    "vcpuNum": 2
   },
   {
    "_defaultOrder": 13,
    "_isFastLaunch": false,
    "category": "General purpose",
    "gpuNum": 0,
    "hideHardwareSpecs": false,
    "memoryGiB": 16,
    "name": "ml.m5d.xlarge",
    "vcpuNum": 4
   },
   {
    "_defaultOrder": 14,
    "_isFastLaunch": false,
    "category": "General purpose",
    "gpuNum": 0,
    "hideHardwareSpecs": false,
    "memoryGiB": 32,
    "name": "ml.m5d.2xlarge",
    "vcpuNum": 8
   },
   {
    "_defaultOrder": 15,
    "_isFastLaunch": false,
    "category": "General purpose",
    "gpuNum": 0,
    "hideHardwareSpecs": false,
    "memoryGiB": 64,
    "name": "ml.m5d.4xlarge",
    "vcpuNum": 16
   },
   {
    "_defaultOrder": 16,
    "_isFastLaunch": false,
    "category": "General purpose",
    "gpuNum": 0,
    "hideHardwareSpecs": false,
    "memoryGiB": 128,
    "name": "ml.m5d.8xlarge",
    "vcpuNum": 32
   },
   {
    "_defaultOrder": 17,
    "_isFastLaunch": false,
    "category": "General purpose",
    "gpuNum": 0,
    "hideHardwareSpecs": false,
    "memoryGiB": 192,
    "name": "ml.m5d.12xlarge",
    "vcpuNum": 48
   },
   {
    "_defaultOrder": 18,
    "_isFastLaunch": false,
    "category": "General purpose",
    "gpuNum": 0,
    "hideHardwareSpecs": false,
    "memoryGiB": 256,
    "name": "ml.m5d.16xlarge",
    "vcpuNum": 64
   },
   {
    "_defaultOrder": 19,
    "_isFastLaunch": false,
    "category": "General purpose",
    "gpuNum": 0,
    "hideHardwareSpecs": false,
    "memoryGiB": 384,
    "name": "ml.m5d.24xlarge",
    "vcpuNum": 96
   },
   {
    "_defaultOrder": 20,
    "_isFastLaunch": false,
    "category": "General purpose",
    "gpuNum": 0,
    "hideHardwareSpecs": true,
    "memoryGiB": 0,
    "name": "ml.geospatial.interactive",
    "supportedImageNames": [
     "sagemaker-geospatial-v1-0"
    ],
    "vcpuNum": 0
   },
   {
    "_defaultOrder": 21,
    "_isFastLaunch": true,
    "category": "Compute optimized",
    "gpuNum": 0,
    "hideHardwareSpecs": false,
    "memoryGiB": 4,
    "name": "ml.c5.large",
    "vcpuNum": 2
   },
   {
    "_defaultOrder": 22,
    "_isFastLaunch": false,
    "category": "Compute optimized",
    "gpuNum": 0,
    "hideHardwareSpecs": false,
    "memoryGiB": 8,
    "name": "ml.c5.xlarge",
    "vcpuNum": 4
   },
   {
    "_defaultOrder": 23,
    "_isFastLaunch": false,
    "category": "Compute optimized",
    "gpuNum": 0,
    "hideHardwareSpecs": false,
    "memoryGiB": 16,
    "name": "ml.c5.2xlarge",
    "vcpuNum": 8
   },
   {
    "_defaultOrder": 24,
    "_isFastLaunch": false,
    "category": "Compute optimized",
    "gpuNum": 0,
    "hideHardwareSpecs": false,
    "memoryGiB": 32,
    "name": "ml.c5.4xlarge",
    "vcpuNum": 16
   },
   {
    "_defaultOrder": 25,
    "_isFastLaunch": false,
    "category": "Compute optimized",
    "gpuNum": 0,
    "hideHardwareSpecs": false,
    "memoryGiB": 72,
    "name": "ml.c5.9xlarge",
    "vcpuNum": 36
   },
   {
    "_defaultOrder": 26,
    "_isFastLaunch": false,
    "category": "Compute optimized",
    "gpuNum": 0,
    "hideHardwareSpecs": false,
    "memoryGiB": 96,
    "name": "ml.c5.12xlarge",
    "vcpuNum": 48
   },
   {
    "_defaultOrder": 27,
    "_isFastLaunch": false,
    "category": "Compute optimized",
    "gpuNum": 0,
    "hideHardwareSpecs": false,
    "memoryGiB": 144,
    "name": "ml.c5.18xlarge",
    "vcpuNum": 72
   },
   {
    "_defaultOrder": 28,
    "_isFastLaunch": false,
    "category": "Compute optimized",
    "gpuNum": 0,
    "hideHardwareSpecs": false,
    "memoryGiB": 192,
    "name": "ml.c5.24xlarge",
    "vcpuNum": 96
   },
   {
    "_defaultOrder": 29,
    "_isFastLaunch": true,
    "category": "Accelerated computing",
    "gpuNum": 1,
    "hideHardwareSpecs": false,
    "memoryGiB": 16,
    "name": "ml.g4dn.xlarge",
    "vcpuNum": 4
   },
   {
    "_defaultOrder": 30,
    "_isFastLaunch": false,
    "category": "Accelerated computing",
    "gpuNum": 1,
    "hideHardwareSpecs": false,
    "memoryGiB": 32,
    "name": "ml.g4dn.2xlarge",
    "vcpuNum": 8
   },
   {
    "_defaultOrder": 31,
    "_isFastLaunch": false,
    "category": "Accelerated computing",
    "gpuNum": 1,
    "hideHardwareSpecs": false,
    "memoryGiB": 64,
    "name": "ml.g4dn.4xlarge",
    "vcpuNum": 16
   },
   {
    "_defaultOrder": 32,
    "_isFastLaunch": false,
    "category": "Accelerated computing",
    "gpuNum": 1,
    "hideHardwareSpecs": false,
    "memoryGiB": 128,
    "name": "ml.g4dn.8xlarge",
    "vcpuNum": 32
   },
   {
    "_defaultOrder": 33,
    "_isFastLaunch": false,
    "category": "Accelerated computing",
    "gpuNum": 4,
    "hideHardwareSpecs": false,
    "memoryGiB": 192,
    "name": "ml.g4dn.12xlarge",
    "vcpuNum": 48
   },
   {
    "_defaultOrder": 34,
    "_isFastLaunch": false,
    "category": "Accelerated computing",
    "gpuNum": 1,
    "hideHardwareSpecs": false,
    "memoryGiB": 256,
    "name": "ml.g4dn.16xlarge",
    "vcpuNum": 64
   },
   {
    "_defaultOrder": 35,
    "_isFastLaunch": false,
    "category": "Accelerated computing",
    "gpuNum": 1,
    "hideHardwareSpecs": false,
    "memoryGiB": 61,
    "name": "ml.p3.2xlarge",
    "vcpuNum": 8
   },
   {
    "_defaultOrder": 36,
    "_isFastLaunch": false,
    "category": "Accelerated computing",
    "gpuNum": 4,
    "hideHardwareSpecs": false,
    "memoryGiB": 244,
    "name": "ml.p3.8xlarge",
    "vcpuNum": 32
   },
   {
    "_defaultOrder": 37,
    "_isFastLaunch": false,
    "category": "Accelerated computing",
    "gpuNum": 8,
    "hideHardwareSpecs": false,
    "memoryGiB": 488,
    "name": "ml.p3.16xlarge",
    "vcpuNum": 64
   },
   {
    "_defaultOrder": 38,
    "_isFastLaunch": false,
    "category": "Accelerated computing",
    "gpuNum": 8,
    "hideHardwareSpecs": false,
    "memoryGiB": 768,
    "name": "ml.p3dn.24xlarge",
    "vcpuNum": 96
   },
   {
    "_defaultOrder": 39,
    "_isFastLaunch": false,
    "category": "Memory Optimized",
    "gpuNum": 0,
    "hideHardwareSpecs": false,
    "memoryGiB": 16,
    "name": "ml.r5.large",
    "vcpuNum": 2
   },
   {
    "_defaultOrder": 40,
    "_isFastLaunch": false,
    "category": "Memory Optimized",
    "gpuNum": 0,
    "hideHardwareSpecs": false,
    "memoryGiB": 32,
    "name": "ml.r5.xlarge",
    "vcpuNum": 4
   },
   {
    "_defaultOrder": 41,
    "_isFastLaunch": false,
    "category": "Memory Optimized",
    "gpuNum": 0,
    "hideHardwareSpecs": false,
    "memoryGiB": 64,
    "name": "ml.r5.2xlarge",
    "vcpuNum": 8
   },
   {
    "_defaultOrder": 42,
    "_isFastLaunch": false,
    "category": "Memory Optimized",
    "gpuNum": 0,
    "hideHardwareSpecs": false,
    "memoryGiB": 128,
    "name": "ml.r5.4xlarge",
    "vcpuNum": 16
   },
   {
    "_defaultOrder": 43,
    "_isFastLaunch": false,
    "category": "Memory Optimized",
    "gpuNum": 0,
    "hideHardwareSpecs": false,
    "memoryGiB": 256,
    "name": "ml.r5.8xlarge",
    "vcpuNum": 32
   },
   {
    "_defaultOrder": 44,
    "_isFastLaunch": false,
    "category": "Memory Optimized",
    "gpuNum": 0,
    "hideHardwareSpecs": false,
    "memoryGiB": 384,
    "name": "ml.r5.12xlarge",
    "vcpuNum": 48
   },
   {
    "_defaultOrder": 45,
    "_isFastLaunch": false,
    "category": "Memory Optimized",
    "gpuNum": 0,
    "hideHardwareSpecs": false,
    "memoryGiB": 512,
    "name": "ml.r5.16xlarge",
    "vcpuNum": 64
   },
   {
    "_defaultOrder": 46,
    "_isFastLaunch": false,
    "category": "Memory Optimized",
    "gpuNum": 0,
    "hideHardwareSpecs": false,
    "memoryGiB": 768,
    "name": "ml.r5.24xlarge",
    "vcpuNum": 96
   },
   {
    "_defaultOrder": 47,
    "_isFastLaunch": false,
    "category": "Accelerated computing",
    "gpuNum": 1,
    "hideHardwareSpecs": false,
    "memoryGiB": 16,
    "name": "ml.g5.xlarge",
    "vcpuNum": 4
   },
   {
    "_defaultOrder": 48,
    "_isFastLaunch": false,
    "category": "Accelerated computing",
    "gpuNum": 1,
    "hideHardwareSpecs": false,
    "memoryGiB": 32,
    "name": "ml.g5.2xlarge",
    "vcpuNum": 8
   },
   {
    "_defaultOrder": 49,
    "_isFastLaunch": false,
    "category": "Accelerated computing",
    "gpuNum": 1,
    "hideHardwareSpecs": false,
    "memoryGiB": 64,
    "name": "ml.g5.4xlarge",
    "vcpuNum": 16
   },
   {
    "_defaultOrder": 50,
    "_isFastLaunch": false,
    "category": "Accelerated computing",
    "gpuNum": 1,
    "hideHardwareSpecs": false,
    "memoryGiB": 128,
    "name": "ml.g5.8xlarge",
    "vcpuNum": 32
   },
   {
    "_defaultOrder": 51,
    "_isFastLaunch": false,
    "category": "Accelerated computing",
    "gpuNum": 1,
    "hideHardwareSpecs": false,
    "memoryGiB": 256,
    "name": "ml.g5.16xlarge",
    "vcpuNum": 64
   },
   {
    "_defaultOrder": 52,
    "_isFastLaunch": false,
    "category": "Accelerated computing",
    "gpuNum": 4,
    "hideHardwareSpecs": false,
    "memoryGiB": 192,
    "name": "ml.g5.12xlarge",
    "vcpuNum": 48
   },
   {
    "_defaultOrder": 53,
    "_isFastLaunch": false,
    "category": "Accelerated computing",
    "gpuNum": 4,
    "hideHardwareSpecs": false,
    "memoryGiB": 384,
    "name": "ml.g5.24xlarge",
    "vcpuNum": 96
   },
   {
    "_defaultOrder": 54,
    "_isFastLaunch": false,
    "category": "Accelerated computing",
    "gpuNum": 8,
    "hideHardwareSpecs": false,
    "memoryGiB": 768,
    "name": "ml.g5.48xlarge",
    "vcpuNum": 192
   },
   {
    "_defaultOrder": 55,
    "_isFastLaunch": false,
    "category": "Accelerated computing",
    "gpuNum": 8,
    "hideHardwareSpecs": false,
    "memoryGiB": 1152,
    "name": "ml.p4d.24xlarge",
    "vcpuNum": 96
   },
   {
    "_defaultOrder": 56,
    "_isFastLaunch": false,
    "category": "Accelerated computing",
    "gpuNum": 8,
    "hideHardwareSpecs": false,
    "memoryGiB": 1152,
    "name": "ml.p4de.24xlarge",
    "vcpuNum": 96
   },
   {
    "_defaultOrder": 57,
    "_isFastLaunch": false,
    "category": "Accelerated computing",
    "gpuNum": 0,
    "hideHardwareSpecs": false,
    "memoryGiB": 32,
    "name": "ml.trn1.2xlarge",
    "vcpuNum": 8
   },
   {
    "_defaultOrder": 58,
    "_isFastLaunch": false,
    "category": "Accelerated computing",
    "gpuNum": 0,
    "hideHardwareSpecs": false,
    "memoryGiB": 512,
    "name": "ml.trn1.32xlarge",
    "vcpuNum": 128
   },
   {
    "_defaultOrder": 59,
    "_isFastLaunch": false,
    "category": "Accelerated computing",
    "gpuNum": 0,
    "hideHardwareSpecs": false,
    "memoryGiB": 512,
    "name": "ml.trn1n.32xlarge",
    "vcpuNum": 128
   }
  ],
  "instance_type": "ml.t3.xlarge",
  "kernelspec": {
   "display_name": "Python 3",
   "language": "python",
   "name": "python3"
  },
  "language_info": {
   "codemirror_mode": {
    "name": "ipython",
    "version": 3
   },
   "file_extension": ".py",
   "mimetype": "text/x-python",
   "name": "python",
   "nbconvert_exporter": "python",
   "pygments_lexer": "ipython3",
   "version": "3.9.9"
  }
 },
 "nbformat": 4,
 "nbformat_minor": 5
}
